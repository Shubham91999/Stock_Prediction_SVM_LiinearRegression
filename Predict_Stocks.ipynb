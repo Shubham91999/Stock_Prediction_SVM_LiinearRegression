{
 "cells": [
  {
   "cell_type": "code",
   "execution_count": 32,
   "metadata": {},
   "outputs": [
    {
     "name": "stdout",
     "output_type": "stream",
     "text": [
      "Requirement already satisfied: quandl in /Users/shubhamk/anaconda3/lib/python3.11/site-packages (3.7.0)\n",
      "Requirement already satisfied: pandas>=0.14 in /Users/shubhamk/anaconda3/lib/python3.11/site-packages (from quandl) (2.0.3)\n",
      "Requirement already satisfied: numpy>=1.8 in /Users/shubhamk/anaconda3/lib/python3.11/site-packages (from quandl) (1.24.3)\n",
      "Requirement already satisfied: requests>=2.7.0 in /Users/shubhamk/anaconda3/lib/python3.11/site-packages (from quandl) (2.31.0)\n",
      "Requirement already satisfied: inflection>=0.3.1 in /Users/shubhamk/anaconda3/lib/python3.11/site-packages (from quandl) (0.5.1)\n",
      "Requirement already satisfied: python-dateutil in /Users/shubhamk/anaconda3/lib/python3.11/site-packages (from quandl) (2.8.2)\n",
      "Requirement already satisfied: six in /Users/shubhamk/anaconda3/lib/python3.11/site-packages (from quandl) (1.16.0)\n",
      "Requirement already satisfied: more-itertools in /Users/shubhamk/anaconda3/lib/python3.11/site-packages (from quandl) (8.12.0)\n",
      "Requirement already satisfied: pytz>=2020.1 in /Users/shubhamk/anaconda3/lib/python3.11/site-packages (from pandas>=0.14->quandl) (2023.3.post1)\n",
      "Requirement already satisfied: tzdata>=2022.1 in /Users/shubhamk/anaconda3/lib/python3.11/site-packages (from pandas>=0.14->quandl) (2023.3)\n",
      "Requirement already satisfied: charset-normalizer<4,>=2 in /Users/shubhamk/anaconda3/lib/python3.11/site-packages (from requests>=2.7.0->quandl) (2.0.4)\n",
      "Requirement already satisfied: idna<4,>=2.5 in /Users/shubhamk/anaconda3/lib/python3.11/site-packages (from requests>=2.7.0->quandl) (3.4)\n",
      "Requirement already satisfied: urllib3<3,>=1.21.1 in /Users/shubhamk/anaconda3/lib/python3.11/site-packages (from requests>=2.7.0->quandl) (1.26.16)\n",
      "Requirement already satisfied: certifi>=2017.4.17 in /Users/shubhamk/anaconda3/lib/python3.11/site-packages (from requests>=2.7.0->quandl) (2023.11.17)\n",
      "Note: you may need to restart the kernel to use updated packages.\n"
     ]
    }
   ],
   "source": [
    "#Installing quandl\n",
    "%pip install quandl"
   ]
  },
  {
   "cell_type": "code",
   "execution_count": 33,
   "metadata": {},
   "outputs": [],
   "source": [
    "#Imorting required libraries\n",
    "import quandl\n",
    "import pandas as pd\n",
    "import numpy as np\n",
    "from sklearn.model_selection import train_test_split\n",
    "from sklearn.svm import SVR\n",
    "from sklearn.linear_model import LinearRegression\n"
   ]
  },
  {
   "cell_type": "code",
   "execution_count": 34,
   "metadata": {},
   "outputs": [],
   "source": [
    "quandl.ApiConfig.api_key = \"WcEmQ-jQzz-gVxzQuRvY\"\n"
   ]
  },
  {
   "cell_type": "code",
   "execution_count": 35,
   "metadata": {},
   "outputs": [],
   "source": [
    "# df = quandl.get(\"FRED/GDP\")\n",
    "# print(df.head())\n"
   ]
  },
  {
   "cell_type": "code",
   "execution_count": 36,
   "metadata": {},
   "outputs": [
    {
     "name": "stdout",
     "output_type": "stream",
     "text": [
      "Requirement already satisfied: yfinance in /Users/shubhamk/anaconda3/lib/python3.11/site-packages (0.2.49)\n",
      "Requirement already satisfied: pandas>=1.3.0 in /Users/shubhamk/anaconda3/lib/python3.11/site-packages (from yfinance) (2.0.3)\n",
      "Requirement already satisfied: numpy>=1.16.5 in /Users/shubhamk/anaconda3/lib/python3.11/site-packages (from yfinance) (1.24.3)\n",
      "Requirement already satisfied: requests>=2.31 in /Users/shubhamk/anaconda3/lib/python3.11/site-packages (from yfinance) (2.31.0)\n",
      "Requirement already satisfied: multitasking>=0.0.7 in /Users/shubhamk/anaconda3/lib/python3.11/site-packages (from yfinance) (0.0.11)\n",
      "Requirement already satisfied: lxml>=4.9.1 in /Users/shubhamk/anaconda3/lib/python3.11/site-packages (from yfinance) (4.9.3)\n",
      "Requirement already satisfied: platformdirs>=2.0.0 in /Users/shubhamk/anaconda3/lib/python3.11/site-packages (from yfinance) (3.10.0)\n",
      "Requirement already satisfied: pytz>=2022.5 in /Users/shubhamk/anaconda3/lib/python3.11/site-packages (from yfinance) (2023.3.post1)\n",
      "Requirement already satisfied: frozendict>=2.3.4 in /Users/shubhamk/anaconda3/lib/python3.11/site-packages (from yfinance) (2.4.6)\n",
      "Requirement already satisfied: peewee>=3.16.2 in /Users/shubhamk/anaconda3/lib/python3.11/site-packages (from yfinance) (3.17.8)\n",
      "Requirement already satisfied: beautifulsoup4>=4.11.1 in /Users/shubhamk/anaconda3/lib/python3.11/site-packages (from yfinance) (4.12.2)\n",
      "Requirement already satisfied: html5lib>=1.1 in /Users/shubhamk/anaconda3/lib/python3.11/site-packages (from yfinance) (1.1)\n",
      "Requirement already satisfied: soupsieve>1.2 in /Users/shubhamk/anaconda3/lib/python3.11/site-packages (from beautifulsoup4>=4.11.1->yfinance) (2.4)\n",
      "Requirement already satisfied: six>=1.9 in /Users/shubhamk/anaconda3/lib/python3.11/site-packages (from html5lib>=1.1->yfinance) (1.16.0)\n",
      "Requirement already satisfied: webencodings in /Users/shubhamk/anaconda3/lib/python3.11/site-packages (from html5lib>=1.1->yfinance) (0.5.1)\n",
      "Requirement already satisfied: python-dateutil>=2.8.2 in /Users/shubhamk/anaconda3/lib/python3.11/site-packages (from pandas>=1.3.0->yfinance) (2.8.2)\n",
      "Requirement already satisfied: tzdata>=2022.1 in /Users/shubhamk/anaconda3/lib/python3.11/site-packages (from pandas>=1.3.0->yfinance) (2023.3)\n",
      "Requirement already satisfied: charset-normalizer<4,>=2 in /Users/shubhamk/anaconda3/lib/python3.11/site-packages (from requests>=2.31->yfinance) (2.0.4)\n",
      "Requirement already satisfied: idna<4,>=2.5 in /Users/shubhamk/anaconda3/lib/python3.11/site-packages (from requests>=2.31->yfinance) (3.4)\n",
      "Requirement already satisfied: urllib3<3,>=1.21.1 in /Users/shubhamk/anaconda3/lib/python3.11/site-packages (from requests>=2.31->yfinance) (1.26.16)\n",
      "Requirement already satisfied: certifi>=2017.4.17 in /Users/shubhamk/anaconda3/lib/python3.11/site-packages (from requests>=2.31->yfinance) (2023.11.17)\n",
      "Note: you may need to restart the kernel to use updated packages.\n"
     ]
    }
   ],
   "source": [
    "%pip install yfinance"
   ]
  },
  {
   "cell_type": "code",
   "execution_count": 37,
   "metadata": {},
   "outputs": [],
   "source": [
    "import yfinance as yf"
   ]
  },
  {
   "cell_type": "code",
   "execution_count": 38,
   "metadata": {},
   "outputs": [
    {
     "name": "stderr",
     "output_type": "stream",
     "text": [
      "[*********************100%***********************]  1 of 1 completed"
     ]
    },
    {
     "name": "stdout",
     "output_type": "stream",
     "text": [
      "Price                      Adj Close      Close       High        Low  \\\n",
      "Ticker                          META       META       META       META   \n",
      "Date                                                                    \n",
      "2012-05-18 00:00:00+00:00  38.115238  38.230000  45.000000  38.000000   \n",
      "2012-05-21 00:00:00+00:00  33.927845  34.029999  36.660000  33.000000   \n",
      "2012-05-22 00:00:00+00:00  30.906942  31.000000  33.590000  30.940001   \n",
      "2012-05-23 00:00:00+00:00  31.903942  32.000000  32.500000  31.360001   \n",
      "2012-05-24 00:00:00+00:00  32.930851  33.029999  33.209999  31.770000   \n",
      "\n",
      "Price                           Open     Volume  \n",
      "Ticker                          META       META  \n",
      "Date                                             \n",
      "2012-05-18 00:00:00+00:00  42.049999  573576400  \n",
      "2012-05-21 00:00:00+00:00  36.529999  168192700  \n",
      "2012-05-22 00:00:00+00:00  32.610001  101786600  \n",
      "2012-05-23 00:00:00+00:00  31.370001   73600000  \n",
      "2012-05-24 00:00:00+00:00  32.950001   50237200  \n"
     ]
    },
    {
     "name": "stderr",
     "output_type": "stream",
     "text": [
      "\n"
     ]
    }
   ],
   "source": [
    "df = yf.download(\"META\", start=\"2012-01-01\", end=\"2023-01-01\")\n",
    "print(df.head())"
   ]
  },
  {
   "cell_type": "code",
   "execution_count": 39,
   "metadata": {},
   "outputs": [
    {
     "data": {
      "text/html": [
       "<div>\n",
       "<style scoped>\n",
       "    .dataframe tbody tr th:only-of-type {\n",
       "        vertical-align: middle;\n",
       "    }\n",
       "\n",
       "    .dataframe tbody tr th {\n",
       "        vertical-align: top;\n",
       "    }\n",
       "\n",
       "    .dataframe thead tr th {\n",
       "        text-align: left;\n",
       "    }\n",
       "</style>\n",
       "<table border=\"1\" class=\"dataframe\">\n",
       "  <thead>\n",
       "    <tr>\n",
       "      <th>Price</th>\n",
       "      <th>Adj Close</th>\n",
       "      <th>Close</th>\n",
       "      <th>High</th>\n",
       "      <th>Low</th>\n",
       "      <th>Open</th>\n",
       "      <th>Volume</th>\n",
       "    </tr>\n",
       "    <tr>\n",
       "      <th>Ticker</th>\n",
       "      <th>META</th>\n",
       "      <th>META</th>\n",
       "      <th>META</th>\n",
       "      <th>META</th>\n",
       "      <th>META</th>\n",
       "      <th>META</th>\n",
       "    </tr>\n",
       "  </thead>\n",
       "  <tbody>\n",
       "    <tr>\n",
       "      <th>count</th>\n",
       "      <td>2673.000000</td>\n",
       "      <td>2673.000000</td>\n",
       "      <td>2673.000000</td>\n",
       "      <td>2673.000000</td>\n",
       "      <td>2673.000000</td>\n",
       "      <td>2.673000e+03</td>\n",
       "    </tr>\n",
       "    <tr>\n",
       "      <th>mean</th>\n",
       "      <td>147.547663</td>\n",
       "      <td>147.991912</td>\n",
       "      <td>149.839027</td>\n",
       "      <td>146.087654</td>\n",
       "      <td>147.961691</td>\n",
       "      <td>3.120245e+07</td>\n",
       "    </tr>\n",
       "    <tr>\n",
       "      <th>std</th>\n",
       "      <td>86.737971</td>\n",
       "      <td>86.999128</td>\n",
       "      <td>88.057578</td>\n",
       "      <td>85.914834</td>\n",
       "      <td>86.969082</td>\n",
       "      <td>2.720500e+07</td>\n",
       "    </tr>\n",
       "    <tr>\n",
       "      <th>min</th>\n",
       "      <td>17.676779</td>\n",
       "      <td>17.730000</td>\n",
       "      <td>18.270000</td>\n",
       "      <td>17.549999</td>\n",
       "      <td>18.080000</td>\n",
       "      <td>5.913100e+06</td>\n",
       "    </tr>\n",
       "    <tr>\n",
       "      <th>25%</th>\n",
       "      <td>77.596367</td>\n",
       "      <td>77.830002</td>\n",
       "      <td>78.529999</td>\n",
       "      <td>77.050003</td>\n",
       "      <td>77.800003</td>\n",
       "      <td>1.618930e+07</td>\n",
       "    </tr>\n",
       "    <tr>\n",
       "      <th>50%</th>\n",
       "      <td>141.852890</td>\n",
       "      <td>142.279999</td>\n",
       "      <td>144.559998</td>\n",
       "      <td>140.869995</td>\n",
       "      <td>142.259995</td>\n",
       "      <td>2.321740e+07</td>\n",
       "    </tr>\n",
       "    <tr>\n",
       "      <th>75%</th>\n",
       "      <td>190.715775</td>\n",
       "      <td>191.289993</td>\n",
       "      <td>194.029999</td>\n",
       "      <td>188.470001</td>\n",
       "      <td>191.360001</td>\n",
       "      <td>3.616910e+07</td>\n",
       "    </tr>\n",
       "    <tr>\n",
       "      <th>max</th>\n",
       "      <td>381.032745</td>\n",
       "      <td>382.179993</td>\n",
       "      <td>384.329987</td>\n",
       "      <td>378.809998</td>\n",
       "      <td>381.679993</td>\n",
       "      <td>5.735764e+08</td>\n",
       "    </tr>\n",
       "  </tbody>\n",
       "</table>\n",
       "</div>"
      ],
      "text/plain": [
       "Price     Adj Close        Close         High          Low         Open  \\\n",
       "Ticker         META         META         META         META         META   \n",
       "count   2673.000000  2673.000000  2673.000000  2673.000000  2673.000000   \n",
       "mean     147.547663   147.991912   149.839027   146.087654   147.961691   \n",
       "std       86.737971    86.999128    88.057578    85.914834    86.969082   \n",
       "min       17.676779    17.730000    18.270000    17.549999    18.080000   \n",
       "25%       77.596367    77.830002    78.529999    77.050003    77.800003   \n",
       "50%      141.852890   142.279999   144.559998   140.869995   142.259995   \n",
       "75%      190.715775   191.289993   194.029999   188.470001   191.360001   \n",
       "max      381.032745   382.179993   384.329987   378.809998   381.679993   \n",
       "\n",
       "Price         Volume  \n",
       "Ticker          META  \n",
       "count   2.673000e+03  \n",
       "mean    3.120245e+07  \n",
       "std     2.720500e+07  \n",
       "min     5.913100e+06  \n",
       "25%     1.618930e+07  \n",
       "50%     2.321740e+07  \n",
       "75%     3.616910e+07  \n",
       "max     5.735764e+08  "
      ]
     },
     "execution_count": 39,
     "metadata": {},
     "output_type": "execute_result"
    }
   ],
   "source": [
    "df.describe()"
   ]
  },
  {
   "cell_type": "code",
   "execution_count": 40,
   "metadata": {},
   "outputs": [
    {
     "name": "stdout",
     "output_type": "stream",
     "text": [
      "<class 'pandas.core.frame.DataFrame'>\n",
      "DatetimeIndex: 2673 entries, 2012-05-18 00:00:00+00:00 to 2022-12-30 00:00:00+00:00\n",
      "Data columns (total 6 columns):\n",
      " #   Column             Non-Null Count  Dtype  \n",
      "---  ------             --------------  -----  \n",
      " 0   (Adj Close, META)  2673 non-null   float64\n",
      " 1   (Close, META)      2673 non-null   float64\n",
      " 2   (High, META)       2673 non-null   float64\n",
      " 3   (Low, META)        2673 non-null   float64\n",
      " 4   (Open, META)       2673 non-null   float64\n",
      " 5   (Volume, META)     2673 non-null   int64  \n",
      "dtypes: float64(5), int64(1)\n",
      "memory usage: 146.2 KB\n"
     ]
    }
   ],
   "source": [
    "df.info()"
   ]
  },
  {
   "cell_type": "code",
   "execution_count": 41,
   "metadata": {},
   "outputs": [
    {
     "data": {
      "text/html": [
       "<div>\n",
       "<style scoped>\n",
       "    .dataframe tbody tr th:only-of-type {\n",
       "        vertical-align: middle;\n",
       "    }\n",
       "\n",
       "    .dataframe tbody tr th {\n",
       "        vertical-align: top;\n",
       "    }\n",
       "\n",
       "    .dataframe thead tr th {\n",
       "        text-align: left;\n",
       "    }\n",
       "\n",
       "    .dataframe thead tr:last-of-type th {\n",
       "        text-align: right;\n",
       "    }\n",
       "</style>\n",
       "<table border=\"1\" class=\"dataframe\">\n",
       "  <thead>\n",
       "    <tr>\n",
       "      <th>Price</th>\n",
       "      <th>Adj Close</th>\n",
       "      <th>Close</th>\n",
       "      <th>High</th>\n",
       "      <th>Low</th>\n",
       "      <th>Open</th>\n",
       "      <th>Volume</th>\n",
       "    </tr>\n",
       "    <tr>\n",
       "      <th>Ticker</th>\n",
       "      <th>META</th>\n",
       "      <th>META</th>\n",
       "      <th>META</th>\n",
       "      <th>META</th>\n",
       "      <th>META</th>\n",
       "      <th>META</th>\n",
       "    </tr>\n",
       "    <tr>\n",
       "      <th>Date</th>\n",
       "      <th></th>\n",
       "      <th></th>\n",
       "      <th></th>\n",
       "      <th></th>\n",
       "      <th></th>\n",
       "      <th></th>\n",
       "    </tr>\n",
       "  </thead>\n",
       "  <tbody>\n",
       "    <tr>\n",
       "      <th>2012-05-18 00:00:00+00:00</th>\n",
       "      <td>38.115238</td>\n",
       "      <td>38.230000</td>\n",
       "      <td>45.000000</td>\n",
       "      <td>38.000000</td>\n",
       "      <td>42.049999</td>\n",
       "      <td>573576400</td>\n",
       "    </tr>\n",
       "    <tr>\n",
       "      <th>2012-05-21 00:00:00+00:00</th>\n",
       "      <td>33.927845</td>\n",
       "      <td>34.029999</td>\n",
       "      <td>36.660000</td>\n",
       "      <td>33.000000</td>\n",
       "      <td>36.529999</td>\n",
       "      <td>168192700</td>\n",
       "    </tr>\n",
       "    <tr>\n",
       "      <th>2012-05-22 00:00:00+00:00</th>\n",
       "      <td>30.906942</td>\n",
       "      <td>31.000000</td>\n",
       "      <td>33.590000</td>\n",
       "      <td>30.940001</td>\n",
       "      <td>32.610001</td>\n",
       "      <td>101786600</td>\n",
       "    </tr>\n",
       "    <tr>\n",
       "      <th>2012-05-23 00:00:00+00:00</th>\n",
       "      <td>31.903942</td>\n",
       "      <td>32.000000</td>\n",
       "      <td>32.500000</td>\n",
       "      <td>31.360001</td>\n",
       "      <td>31.370001</td>\n",
       "      <td>73600000</td>\n",
       "    </tr>\n",
       "    <tr>\n",
       "      <th>2012-05-24 00:00:00+00:00</th>\n",
       "      <td>32.930851</td>\n",
       "      <td>33.029999</td>\n",
       "      <td>33.209999</td>\n",
       "      <td>31.770000</td>\n",
       "      <td>32.950001</td>\n",
       "      <td>50237200</td>\n",
       "    </tr>\n",
       "    <tr>\n",
       "      <th>...</th>\n",
       "      <td>...</td>\n",
       "      <td>...</td>\n",
       "      <td>...</td>\n",
       "      <td>...</td>\n",
       "      <td>...</td>\n",
       "      <td>...</td>\n",
       "    </tr>\n",
       "    <tr>\n",
       "      <th>2022-12-23 00:00:00+00:00</th>\n",
       "      <td>117.685669</td>\n",
       "      <td>118.040001</td>\n",
       "      <td>118.180000</td>\n",
       "      <td>115.540001</td>\n",
       "      <td>116.029999</td>\n",
       "      <td>17796600</td>\n",
       "    </tr>\n",
       "    <tr>\n",
       "      <th>2022-12-27 00:00:00+00:00</th>\n",
       "      <td>116.529137</td>\n",
       "      <td>116.879997</td>\n",
       "      <td>118.599998</td>\n",
       "      <td>116.050003</td>\n",
       "      <td>117.930000</td>\n",
       "      <td>21392300</td>\n",
       "    </tr>\n",
       "    <tr>\n",
       "      <th>2022-12-28 00:00:00+00:00</th>\n",
       "      <td>115.272934</td>\n",
       "      <td>115.620003</td>\n",
       "      <td>118.150002</td>\n",
       "      <td>115.510002</td>\n",
       "      <td>116.250000</td>\n",
       "      <td>19612500</td>\n",
       "    </tr>\n",
       "    <tr>\n",
       "      <th>2022-12-29 00:00:00+00:00</th>\n",
       "      <td>119.899002</td>\n",
       "      <td>120.260002</td>\n",
       "      <td>121.029999</td>\n",
       "      <td>115.769997</td>\n",
       "      <td>116.400002</td>\n",
       "      <td>22366200</td>\n",
       "    </tr>\n",
       "    <tr>\n",
       "      <th>2022-12-30 00:00:00+00:00</th>\n",
       "      <td>119.978760</td>\n",
       "      <td>120.339996</td>\n",
       "      <td>120.419998</td>\n",
       "      <td>117.739998</td>\n",
       "      <td>118.160004</td>\n",
       "      <td>19583800</td>\n",
       "    </tr>\n",
       "  </tbody>\n",
       "</table>\n",
       "<p>2673 rows × 6 columns</p>\n",
       "</div>"
      ],
      "text/plain": [
       "Price                       Adj Close       Close        High         Low  \\\n",
       "Ticker                           META        META        META        META   \n",
       "Date                                                                        \n",
       "2012-05-18 00:00:00+00:00   38.115238   38.230000   45.000000   38.000000   \n",
       "2012-05-21 00:00:00+00:00   33.927845   34.029999   36.660000   33.000000   \n",
       "2012-05-22 00:00:00+00:00   30.906942   31.000000   33.590000   30.940001   \n",
       "2012-05-23 00:00:00+00:00   31.903942   32.000000   32.500000   31.360001   \n",
       "2012-05-24 00:00:00+00:00   32.930851   33.029999   33.209999   31.770000   \n",
       "...                               ...         ...         ...         ...   \n",
       "2022-12-23 00:00:00+00:00  117.685669  118.040001  118.180000  115.540001   \n",
       "2022-12-27 00:00:00+00:00  116.529137  116.879997  118.599998  116.050003   \n",
       "2022-12-28 00:00:00+00:00  115.272934  115.620003  118.150002  115.510002   \n",
       "2022-12-29 00:00:00+00:00  119.899002  120.260002  121.029999  115.769997   \n",
       "2022-12-30 00:00:00+00:00  119.978760  120.339996  120.419998  117.739998   \n",
       "\n",
       "Price                            Open     Volume  \n",
       "Ticker                           META       META  \n",
       "Date                                              \n",
       "2012-05-18 00:00:00+00:00   42.049999  573576400  \n",
       "2012-05-21 00:00:00+00:00   36.529999  168192700  \n",
       "2012-05-22 00:00:00+00:00   32.610001  101786600  \n",
       "2012-05-23 00:00:00+00:00   31.370001   73600000  \n",
       "2012-05-24 00:00:00+00:00   32.950001   50237200  \n",
       "...                               ...        ...  \n",
       "2022-12-23 00:00:00+00:00  116.029999   17796600  \n",
       "2022-12-27 00:00:00+00:00  117.930000   21392300  \n",
       "2022-12-28 00:00:00+00:00  116.250000   19612500  \n",
       "2022-12-29 00:00:00+00:00  116.400002   22366200  \n",
       "2022-12-30 00:00:00+00:00  118.160004   19583800  \n",
       "\n",
       "[2673 rows x 6 columns]"
      ]
     },
     "execution_count": 41,
     "metadata": {},
     "output_type": "execute_result"
    }
   ],
   "source": [
    "df"
   ]
  },
  {
   "cell_type": "code",
   "execution_count": 42,
   "metadata": {},
   "outputs": [
    {
     "data": {
      "text/html": [
       "<div>\n",
       "<style scoped>\n",
       "    .dataframe tbody tr th:only-of-type {\n",
       "        vertical-align: middle;\n",
       "    }\n",
       "\n",
       "    .dataframe tbody tr th {\n",
       "        vertical-align: top;\n",
       "    }\n",
       "\n",
       "    .dataframe thead tr th {\n",
       "        text-align: left;\n",
       "    }\n",
       "\n",
       "    .dataframe thead tr:last-of-type th {\n",
       "        text-align: right;\n",
       "    }\n",
       "</style>\n",
       "<table border=\"1\" class=\"dataframe\">\n",
       "  <thead>\n",
       "    <tr>\n",
       "      <th>Price</th>\n",
       "      <th>Adj Close</th>\n",
       "    </tr>\n",
       "    <tr>\n",
       "      <th>Ticker</th>\n",
       "      <th>META</th>\n",
       "    </tr>\n",
       "    <tr>\n",
       "      <th>Date</th>\n",
       "      <th></th>\n",
       "    </tr>\n",
       "  </thead>\n",
       "  <tbody>\n",
       "    <tr>\n",
       "      <th>2012-05-18 00:00:00+00:00</th>\n",
       "      <td>38.115238</td>\n",
       "    </tr>\n",
       "    <tr>\n",
       "      <th>2012-05-21 00:00:00+00:00</th>\n",
       "      <td>33.927845</td>\n",
       "    </tr>\n",
       "    <tr>\n",
       "      <th>2012-05-22 00:00:00+00:00</th>\n",
       "      <td>30.906942</td>\n",
       "    </tr>\n",
       "    <tr>\n",
       "      <th>2012-05-23 00:00:00+00:00</th>\n",
       "      <td>31.903942</td>\n",
       "    </tr>\n",
       "    <tr>\n",
       "      <th>2012-05-24 00:00:00+00:00</th>\n",
       "      <td>32.930851</td>\n",
       "    </tr>\n",
       "    <tr>\n",
       "      <th>...</th>\n",
       "      <td>...</td>\n",
       "    </tr>\n",
       "    <tr>\n",
       "      <th>2022-12-23 00:00:00+00:00</th>\n",
       "      <td>117.685669</td>\n",
       "    </tr>\n",
       "    <tr>\n",
       "      <th>2022-12-27 00:00:00+00:00</th>\n",
       "      <td>116.529137</td>\n",
       "    </tr>\n",
       "    <tr>\n",
       "      <th>2022-12-28 00:00:00+00:00</th>\n",
       "      <td>115.272934</td>\n",
       "    </tr>\n",
       "    <tr>\n",
       "      <th>2022-12-29 00:00:00+00:00</th>\n",
       "      <td>119.899002</td>\n",
       "    </tr>\n",
       "    <tr>\n",
       "      <th>2022-12-30 00:00:00+00:00</th>\n",
       "      <td>119.978760</td>\n",
       "    </tr>\n",
       "  </tbody>\n",
       "</table>\n",
       "<p>2673 rows × 1 columns</p>\n",
       "</div>"
      ],
      "text/plain": [
       "Price                       Adj Close\n",
       "Ticker                           META\n",
       "Date                                 \n",
       "2012-05-18 00:00:00+00:00   38.115238\n",
       "2012-05-21 00:00:00+00:00   33.927845\n",
       "2012-05-22 00:00:00+00:00   30.906942\n",
       "2012-05-23 00:00:00+00:00   31.903942\n",
       "2012-05-24 00:00:00+00:00   32.930851\n",
       "...                               ...\n",
       "2022-12-23 00:00:00+00:00  117.685669\n",
       "2022-12-27 00:00:00+00:00  116.529137\n",
       "2022-12-28 00:00:00+00:00  115.272934\n",
       "2022-12-29 00:00:00+00:00  119.899002\n",
       "2022-12-30 00:00:00+00:00  119.978760\n",
       "\n",
       "[2673 rows x 1 columns]"
      ]
     },
     "execution_count": 42,
     "metadata": {},
     "output_type": "execute_result"
    }
   ],
   "source": [
    "df_adj = df[['Adj Close']]\n",
    "df_adj"
   ]
  },
  {
   "cell_type": "code",
   "execution_count": 43,
   "metadata": {},
   "outputs": [
    {
     "data": {
      "text/plain": [
       "MultiIndex([('Adj Close', 'META'),\n",
       "            (    'Close', 'META'),\n",
       "            (     'High', 'META'),\n",
       "            (      'Low', 'META'),\n",
       "            (     'Open', 'META'),\n",
       "            (   'Volume', 'META')],\n",
       "           names=['Price', 'Ticker'])"
      ]
     },
     "execution_count": 43,
     "metadata": {},
     "output_type": "execute_result"
    }
   ],
   "source": [
    "df.columns\n"
   ]
  },
  {
   "cell_type": "code",
   "execution_count": 44,
   "metadata": {},
   "outputs": [],
   "source": [
    "# df_adj_drop = df_adj.droplevel('Ticker', 1)\n",
    "# df_adj_drop"
   ]
  },
  {
   "cell_type": "code",
   "execution_count": 45,
   "metadata": {},
   "outputs": [],
   "source": [
    "# df_adj_drop.columns"
   ]
  },
  {
   "cell_type": "code",
   "execution_count": 46,
   "metadata": {},
   "outputs": [
    {
     "name": "stdout",
     "output_type": "stream",
     "text": [
      "Price                       Adj Close Prediction\n",
      "Ticker                           META           \n",
      "Date                                            \n",
      "2012-05-18 00:00:00+00:00   38.115238  30.677635\n",
      "2012-05-21 00:00:00+00:00   33.927845  31.106342\n",
      "2012-05-22 00:00:00+00:00   30.906942  31.375532\n",
      "2012-05-23 00:00:00+00:00   31.903942  31.634750\n",
      "2012-05-24 00:00:00+00:00   32.930851  32.073429\n",
      "...                               ...        ...\n",
      "2022-12-23 00:00:00+00:00  117.685669        NaN\n",
      "2022-12-27 00:00:00+00:00  116.529137        NaN\n",
      "2022-12-28 00:00:00+00:00  115.272934        NaN\n",
      "2022-12-29 00:00:00+00:00  119.899002        NaN\n",
      "2022-12-30 00:00:00+00:00  119.978760        NaN\n",
      "\n",
      "[2673 rows x 2 columns]\n"
     ]
    },
    {
     "name": "stderr",
     "output_type": "stream",
     "text": [
      "/var/folders/rw/k5d2xn3s521ckl5hkyf9k60m0000gn/T/ipykernel_65292/271705914.py:3: SettingWithCopyWarning: \n",
      "A value is trying to be set on a copy of a slice from a DataFrame.\n",
      "Try using .loc[row_indexer,col_indexer] = value instead\n",
      "\n",
      "See the caveats in the documentation: https://pandas.pydata.org/pandas-docs/stable/user_guide/indexing.html#returning-a-view-versus-a-copy\n",
      "  df_adj['Prediction'] = df_adj[['Adj Close']].shift(-forecast_days)\n"
     ]
    }
   ],
   "source": [
    "#Variable for predicting 'n' number of days in future\n",
    "forecast_days = 30\n",
    "df_adj['Prediction'] = df_adj[['Adj Close']].shift(-forecast_days)\n",
    "print(df_adj)"
   ]
  },
  {
   "cell_type": "code",
   "execution_count": 47,
   "metadata": {},
   "outputs": [
    {
     "data": {
      "text/html": [
       "<div>\n",
       "<style scoped>\n",
       "    .dataframe tbody tr th:only-of-type {\n",
       "        vertical-align: middle;\n",
       "    }\n",
       "\n",
       "    .dataframe tbody tr th {\n",
       "        vertical-align: top;\n",
       "    }\n",
       "\n",
       "    .dataframe thead tr th {\n",
       "        text-align: left;\n",
       "    }\n",
       "\n",
       "    .dataframe thead tr:last-of-type th {\n",
       "        text-align: right;\n",
       "    }\n",
       "</style>\n",
       "<table border=\"1\" class=\"dataframe\">\n",
       "  <thead>\n",
       "    <tr>\n",
       "      <th>Price</th>\n",
       "      <th>Adj Close</th>\n",
       "      <th>Prediction</th>\n",
       "    </tr>\n",
       "    <tr>\n",
       "      <th>Ticker</th>\n",
       "      <th>META</th>\n",
       "      <th></th>\n",
       "    </tr>\n",
       "    <tr>\n",
       "      <th>Date</th>\n",
       "      <th></th>\n",
       "      <th></th>\n",
       "    </tr>\n",
       "  </thead>\n",
       "  <tbody>\n",
       "    <tr>\n",
       "      <th>2022-12-23 00:00:00+00:00</th>\n",
       "      <td>117.685669</td>\n",
       "      <td>NaN</td>\n",
       "    </tr>\n",
       "    <tr>\n",
       "      <th>2022-12-27 00:00:00+00:00</th>\n",
       "      <td>116.529137</td>\n",
       "      <td>NaN</td>\n",
       "    </tr>\n",
       "    <tr>\n",
       "      <th>2022-12-28 00:00:00+00:00</th>\n",
       "      <td>115.272934</td>\n",
       "      <td>NaN</td>\n",
       "    </tr>\n",
       "    <tr>\n",
       "      <th>2022-12-29 00:00:00+00:00</th>\n",
       "      <td>119.899002</td>\n",
       "      <td>NaN</td>\n",
       "    </tr>\n",
       "    <tr>\n",
       "      <th>2022-12-30 00:00:00+00:00</th>\n",
       "      <td>119.978760</td>\n",
       "      <td>NaN</td>\n",
       "    </tr>\n",
       "  </tbody>\n",
       "</table>\n",
       "</div>"
      ],
      "text/plain": [
       "Price                       Adj Close Prediction\n",
       "Ticker                           META           \n",
       "Date                                            \n",
       "2022-12-23 00:00:00+00:00  117.685669        NaN\n",
       "2022-12-27 00:00:00+00:00  116.529137        NaN\n",
       "2022-12-28 00:00:00+00:00  115.272934        NaN\n",
       "2022-12-29 00:00:00+00:00  119.899002        NaN\n",
       "2022-12-30 00:00:00+00:00  119.978760        NaN"
      ]
     },
     "execution_count": 47,
     "metadata": {},
     "output_type": "execute_result"
    }
   ],
   "source": [
    "df_adj.tail()"
   ]
  },
  {
   "cell_type": "code",
   "execution_count": 48,
   "metadata": {},
   "outputs": [],
   "source": [
    " df_adj = df_adj.droplevel('Ticker', 1)\n"
   ]
  },
  {
   "cell_type": "code",
   "execution_count": 49,
   "metadata": {},
   "outputs": [
    {
     "data": {
      "text/html": [
       "<div>\n",
       "<style scoped>\n",
       "    .dataframe tbody tr th:only-of-type {\n",
       "        vertical-align: middle;\n",
       "    }\n",
       "\n",
       "    .dataframe tbody tr th {\n",
       "        vertical-align: top;\n",
       "    }\n",
       "\n",
       "    .dataframe thead th {\n",
       "        text-align: right;\n",
       "    }\n",
       "</style>\n",
       "<table border=\"1\" class=\"dataframe\">\n",
       "  <thead>\n",
       "    <tr style=\"text-align: right;\">\n",
       "      <th>Price</th>\n",
       "      <th>Adj Close</th>\n",
       "      <th>Prediction</th>\n",
       "    </tr>\n",
       "    <tr>\n",
       "      <th>Date</th>\n",
       "      <th></th>\n",
       "      <th></th>\n",
       "    </tr>\n",
       "  </thead>\n",
       "  <tbody>\n",
       "    <tr>\n",
       "      <th>2012-05-18 00:00:00+00:00</th>\n",
       "      <td>38.115238</td>\n",
       "      <td>30.677635</td>\n",
       "    </tr>\n",
       "    <tr>\n",
       "      <th>2012-05-21 00:00:00+00:00</th>\n",
       "      <td>33.927845</td>\n",
       "      <td>31.106342</td>\n",
       "    </tr>\n",
       "    <tr>\n",
       "      <th>2012-05-22 00:00:00+00:00</th>\n",
       "      <td>30.906942</td>\n",
       "      <td>31.375532</td>\n",
       "    </tr>\n",
       "    <tr>\n",
       "      <th>2012-05-23 00:00:00+00:00</th>\n",
       "      <td>31.903942</td>\n",
       "      <td>31.634750</td>\n",
       "    </tr>\n",
       "    <tr>\n",
       "      <th>2012-05-24 00:00:00+00:00</th>\n",
       "      <td>32.930851</td>\n",
       "      <td>32.073429</td>\n",
       "    </tr>\n",
       "    <tr>\n",
       "      <th>...</th>\n",
       "      <td>...</td>\n",
       "      <td>...</td>\n",
       "    </tr>\n",
       "    <tr>\n",
       "      <th>2022-12-23 00:00:00+00:00</th>\n",
       "      <td>117.685669</td>\n",
       "      <td>NaN</td>\n",
       "    </tr>\n",
       "    <tr>\n",
       "      <th>2022-12-27 00:00:00+00:00</th>\n",
       "      <td>116.529137</td>\n",
       "      <td>NaN</td>\n",
       "    </tr>\n",
       "    <tr>\n",
       "      <th>2022-12-28 00:00:00+00:00</th>\n",
       "      <td>115.272934</td>\n",
       "      <td>NaN</td>\n",
       "    </tr>\n",
       "    <tr>\n",
       "      <th>2022-12-29 00:00:00+00:00</th>\n",
       "      <td>119.899002</td>\n",
       "      <td>NaN</td>\n",
       "    </tr>\n",
       "    <tr>\n",
       "      <th>2022-12-30 00:00:00+00:00</th>\n",
       "      <td>119.978760</td>\n",
       "      <td>NaN</td>\n",
       "    </tr>\n",
       "  </tbody>\n",
       "</table>\n",
       "<p>2673 rows × 2 columns</p>\n",
       "</div>"
      ],
      "text/plain": [
       "Price                       Adj Close  Prediction\n",
       "Date                                             \n",
       "2012-05-18 00:00:00+00:00   38.115238   30.677635\n",
       "2012-05-21 00:00:00+00:00   33.927845   31.106342\n",
       "2012-05-22 00:00:00+00:00   30.906942   31.375532\n",
       "2012-05-23 00:00:00+00:00   31.903942   31.634750\n",
       "2012-05-24 00:00:00+00:00   32.930851   32.073429\n",
       "...                               ...         ...\n",
       "2022-12-23 00:00:00+00:00  117.685669         NaN\n",
       "2022-12-27 00:00:00+00:00  116.529137         NaN\n",
       "2022-12-28 00:00:00+00:00  115.272934         NaN\n",
       "2022-12-29 00:00:00+00:00  119.899002         NaN\n",
       "2022-12-30 00:00:00+00:00  119.978760         NaN\n",
       "\n",
       "[2673 rows x 2 columns]"
      ]
     },
     "execution_count": 49,
     "metadata": {},
     "output_type": "execute_result"
    }
   ],
   "source": [
    "df_adj"
   ]
  },
  {
   "cell_type": "code",
   "execution_count": 51,
   "metadata": {},
   "outputs": [
    {
     "name": "stdout",
     "output_type": "stream",
     "text": [
      "DataFrame after renaming the index to 'Date':\n",
      "Price                      Date  Adj Close  Prediction\n",
      "0     2012-05-18 00:00:00+00:00  38.115238   30.677635\n",
      "1     2012-05-21 00:00:00+00:00  33.927845   31.106342\n",
      "2     2012-05-22 00:00:00+00:00  30.906942   31.375532\n",
      "3     2012-05-23 00:00:00+00:00  31.903942   31.634750\n",
      "4     2012-05-24 00:00:00+00:00  32.930851   32.073429\n"
     ]
    }
   ],
   "source": [
    "# Reset the index and assign 'Date' as the column name\n",
    "df_adj = df_adj.reset_index()\n",
    "\n",
    "# Rename the new column that was the index\n",
    "df_adj = df_adj.rename(columns={'index': 'Date'})\n",
    "\n",
    "print(\"DataFrame after renaming the index to 'Date':\")\n",
    "print(df_adj.head())\n"
   ]
  },
  {
   "cell_type": "code",
   "execution_count": 62,
   "metadata": {},
   "outputs": [
    {
     "name": "stdout",
     "output_type": "stream",
     "text": [
      "[[ 38.11523819]\n",
      " [ 33.927845  ]\n",
      " [ 30.90694237]\n",
      " ...\n",
      " [113.8771286 ]\n",
      " [116.72854614]\n",
      " [112.89009857]]\n"
     ]
    }
   ],
   "source": [
    "X = np.array(df_adj.drop(['Prediction', 'Date'], axis=1))\n",
    "X = X[:-forecast_days]\n",
    "print(X)"
   ]
  },
  {
   "cell_type": "code",
   "execution_count": 68,
   "metadata": {},
   "outputs": [
    {
     "data": {
      "text/plain": [
       "array([ 30.67763519,  31.10634232,  31.37553215, ..., 115.27293396,\n",
       "       119.89900208, 119.97875977])"
      ]
     },
     "execution_count": 68,
     "metadata": {},
     "output_type": "execute_result"
    }
   ],
   "source": [
    "y = np.array(df_adj['Prediction'])\n",
    "y = y[:-forecast_days]\n",
    "y\n"
   ]
  },
  {
   "cell_type": "code",
   "execution_count": 69,
   "metadata": {},
   "outputs": [],
   "source": [
    "X_train, X_test, y_train, y_test = train_test_split(X, y, test_size=0.2)"
   ]
  },
  {
   "cell_type": "code",
   "execution_count": 70,
   "metadata": {},
   "outputs": [
    {
     "data": {
      "text/html": [
       "<style>#sk-container-id-1 {color: black;}#sk-container-id-1 pre{padding: 0;}#sk-container-id-1 div.sk-toggleable {background-color: white;}#sk-container-id-1 label.sk-toggleable__label {cursor: pointer;display: block;width: 100%;margin-bottom: 0;padding: 0.3em;box-sizing: border-box;text-align: center;}#sk-container-id-1 label.sk-toggleable__label-arrow:before {content: \"▸\";float: left;margin-right: 0.25em;color: #696969;}#sk-container-id-1 label.sk-toggleable__label-arrow:hover:before {color: black;}#sk-container-id-1 div.sk-estimator:hover label.sk-toggleable__label-arrow:before {color: black;}#sk-container-id-1 div.sk-toggleable__content {max-height: 0;max-width: 0;overflow: hidden;text-align: left;background-color: #f0f8ff;}#sk-container-id-1 div.sk-toggleable__content pre {margin: 0.2em;color: black;border-radius: 0.25em;background-color: #f0f8ff;}#sk-container-id-1 input.sk-toggleable__control:checked~div.sk-toggleable__content {max-height: 200px;max-width: 100%;overflow: auto;}#sk-container-id-1 input.sk-toggleable__control:checked~label.sk-toggleable__label-arrow:before {content: \"▾\";}#sk-container-id-1 div.sk-estimator input.sk-toggleable__control:checked~label.sk-toggleable__label {background-color: #d4ebff;}#sk-container-id-1 div.sk-label input.sk-toggleable__control:checked~label.sk-toggleable__label {background-color: #d4ebff;}#sk-container-id-1 input.sk-hidden--visually {border: 0;clip: rect(1px 1px 1px 1px);clip: rect(1px, 1px, 1px, 1px);height: 1px;margin: -1px;overflow: hidden;padding: 0;position: absolute;width: 1px;}#sk-container-id-1 div.sk-estimator {font-family: monospace;background-color: #f0f8ff;border: 1px dotted black;border-radius: 0.25em;box-sizing: border-box;margin-bottom: 0.5em;}#sk-container-id-1 div.sk-estimator:hover {background-color: #d4ebff;}#sk-container-id-1 div.sk-parallel-item::after {content: \"\";width: 100%;border-bottom: 1px solid gray;flex-grow: 1;}#sk-container-id-1 div.sk-label:hover label.sk-toggleable__label {background-color: #d4ebff;}#sk-container-id-1 div.sk-serial::before {content: \"\";position: absolute;border-left: 1px solid gray;box-sizing: border-box;top: 0;bottom: 0;left: 50%;z-index: 0;}#sk-container-id-1 div.sk-serial {display: flex;flex-direction: column;align-items: center;background-color: white;padding-right: 0.2em;padding-left: 0.2em;position: relative;}#sk-container-id-1 div.sk-item {position: relative;z-index: 1;}#sk-container-id-1 div.sk-parallel {display: flex;align-items: stretch;justify-content: center;background-color: white;position: relative;}#sk-container-id-1 div.sk-item::before, #sk-container-id-1 div.sk-parallel-item::before {content: \"\";position: absolute;border-left: 1px solid gray;box-sizing: border-box;top: 0;bottom: 0;left: 50%;z-index: -1;}#sk-container-id-1 div.sk-parallel-item {display: flex;flex-direction: column;z-index: 1;position: relative;background-color: white;}#sk-container-id-1 div.sk-parallel-item:first-child::after {align-self: flex-end;width: 50%;}#sk-container-id-1 div.sk-parallel-item:last-child::after {align-self: flex-start;width: 50%;}#sk-container-id-1 div.sk-parallel-item:only-child::after {width: 0;}#sk-container-id-1 div.sk-dashed-wrapped {border: 1px dashed gray;margin: 0 0.4em 0.5em 0.4em;box-sizing: border-box;padding-bottom: 0.4em;background-color: white;}#sk-container-id-1 div.sk-label label {font-family: monospace;font-weight: bold;display: inline-block;line-height: 1.2em;}#sk-container-id-1 div.sk-label-container {text-align: center;}#sk-container-id-1 div.sk-container {/* jupyter's `normalize.less` sets `[hidden] { display: none; }` but bootstrap.min.css set `[hidden] { display: none !important; }` so we also need the `!important` here to be able to override the default hidden behavior on the sphinx rendered scikit-learn.org. See: https://github.com/scikit-learn/scikit-learn/issues/21755 */display: inline-block !important;position: relative;}#sk-container-id-1 div.sk-text-repr-fallback {display: none;}</style><div id=\"sk-container-id-1\" class=\"sk-top-container\"><div class=\"sk-text-repr-fallback\"><pre>SVR(C=1000.0, gamma=0.1)</pre><b>In a Jupyter environment, please rerun this cell to show the HTML representation or trust the notebook. <br />On GitHub, the HTML representation is unable to render, please try loading this page with nbviewer.org.</b></div><div class=\"sk-container\" hidden><div class=\"sk-item\"><div class=\"sk-estimator sk-toggleable\"><input class=\"sk-toggleable__control sk-hidden--visually\" id=\"sk-estimator-id-1\" type=\"checkbox\" checked><label for=\"sk-estimator-id-1\" class=\"sk-toggleable__label sk-toggleable__label-arrow\">SVR</label><div class=\"sk-toggleable__content\"><pre>SVR(C=1000.0, gamma=0.1)</pre></div></div></div></div></div>"
      ],
      "text/plain": [
       "SVR(C=1000.0, gamma=0.1)"
      ]
     },
     "execution_count": 70,
     "metadata": {},
     "output_type": "execute_result"
    }
   ],
   "source": [
    "#Creating SVR\n",
    "svr_rbf = SVR(kernel='rbf', C=1e3, gamma=0.1)\n",
    "svr_rbf.fit(X_train, y_train)"
   ]
  },
  {
   "cell_type": "code",
   "execution_count": null,
   "metadata": {},
   "outputs": [
    {
     "name": "stdout",
     "output_type": "stream",
     "text": [
      "SVM Confidence: 0.9359751689589377\n"
     ]
    }
   ],
   "source": [
    "#Getting score of SVM model\n",
    "svm_confidence = svr_rbf.score(X_test, y_test)\n",
    "print(f\"SVM Confidence:\", svm_confidence )"
   ]
  },
  {
   "cell_type": "code",
   "execution_count": 72,
   "metadata": {},
   "outputs": [
    {
     "data": {
      "text/html": [
       "<style>#sk-container-id-2 {color: black;}#sk-container-id-2 pre{padding: 0;}#sk-container-id-2 div.sk-toggleable {background-color: white;}#sk-container-id-2 label.sk-toggleable__label {cursor: pointer;display: block;width: 100%;margin-bottom: 0;padding: 0.3em;box-sizing: border-box;text-align: center;}#sk-container-id-2 label.sk-toggleable__label-arrow:before {content: \"▸\";float: left;margin-right: 0.25em;color: #696969;}#sk-container-id-2 label.sk-toggleable__label-arrow:hover:before {color: black;}#sk-container-id-2 div.sk-estimator:hover label.sk-toggleable__label-arrow:before {color: black;}#sk-container-id-2 div.sk-toggleable__content {max-height: 0;max-width: 0;overflow: hidden;text-align: left;background-color: #f0f8ff;}#sk-container-id-2 div.sk-toggleable__content pre {margin: 0.2em;color: black;border-radius: 0.25em;background-color: #f0f8ff;}#sk-container-id-2 input.sk-toggleable__control:checked~div.sk-toggleable__content {max-height: 200px;max-width: 100%;overflow: auto;}#sk-container-id-2 input.sk-toggleable__control:checked~label.sk-toggleable__label-arrow:before {content: \"▾\";}#sk-container-id-2 div.sk-estimator input.sk-toggleable__control:checked~label.sk-toggleable__label {background-color: #d4ebff;}#sk-container-id-2 div.sk-label input.sk-toggleable__control:checked~label.sk-toggleable__label {background-color: #d4ebff;}#sk-container-id-2 input.sk-hidden--visually {border: 0;clip: rect(1px 1px 1px 1px);clip: rect(1px, 1px, 1px, 1px);height: 1px;margin: -1px;overflow: hidden;padding: 0;position: absolute;width: 1px;}#sk-container-id-2 div.sk-estimator {font-family: monospace;background-color: #f0f8ff;border: 1px dotted black;border-radius: 0.25em;box-sizing: border-box;margin-bottom: 0.5em;}#sk-container-id-2 div.sk-estimator:hover {background-color: #d4ebff;}#sk-container-id-2 div.sk-parallel-item::after {content: \"\";width: 100%;border-bottom: 1px solid gray;flex-grow: 1;}#sk-container-id-2 div.sk-label:hover label.sk-toggleable__label {background-color: #d4ebff;}#sk-container-id-2 div.sk-serial::before {content: \"\";position: absolute;border-left: 1px solid gray;box-sizing: border-box;top: 0;bottom: 0;left: 50%;z-index: 0;}#sk-container-id-2 div.sk-serial {display: flex;flex-direction: column;align-items: center;background-color: white;padding-right: 0.2em;padding-left: 0.2em;position: relative;}#sk-container-id-2 div.sk-item {position: relative;z-index: 1;}#sk-container-id-2 div.sk-parallel {display: flex;align-items: stretch;justify-content: center;background-color: white;position: relative;}#sk-container-id-2 div.sk-item::before, #sk-container-id-2 div.sk-parallel-item::before {content: \"\";position: absolute;border-left: 1px solid gray;box-sizing: border-box;top: 0;bottom: 0;left: 50%;z-index: -1;}#sk-container-id-2 div.sk-parallel-item {display: flex;flex-direction: column;z-index: 1;position: relative;background-color: white;}#sk-container-id-2 div.sk-parallel-item:first-child::after {align-self: flex-end;width: 50%;}#sk-container-id-2 div.sk-parallel-item:last-child::after {align-self: flex-start;width: 50%;}#sk-container-id-2 div.sk-parallel-item:only-child::after {width: 0;}#sk-container-id-2 div.sk-dashed-wrapped {border: 1px dashed gray;margin: 0 0.4em 0.5em 0.4em;box-sizing: border-box;padding-bottom: 0.4em;background-color: white;}#sk-container-id-2 div.sk-label label {font-family: monospace;font-weight: bold;display: inline-block;line-height: 1.2em;}#sk-container-id-2 div.sk-label-container {text-align: center;}#sk-container-id-2 div.sk-container {/* jupyter's `normalize.less` sets `[hidden] { display: none; }` but bootstrap.min.css set `[hidden] { display: none !important; }` so we also need the `!important` here to be able to override the default hidden behavior on the sphinx rendered scikit-learn.org. See: https://github.com/scikit-learn/scikit-learn/issues/21755 */display: inline-block !important;position: relative;}#sk-container-id-2 div.sk-text-repr-fallback {display: none;}</style><div id=\"sk-container-id-2\" class=\"sk-top-container\"><div class=\"sk-text-repr-fallback\"><pre>LinearRegression()</pre><b>In a Jupyter environment, please rerun this cell to show the HTML representation or trust the notebook. <br />On GitHub, the HTML representation is unable to render, please try loading this page with nbviewer.org.</b></div><div class=\"sk-container\" hidden><div class=\"sk-item\"><div class=\"sk-estimator sk-toggleable\"><input class=\"sk-toggleable__control sk-hidden--visually\" id=\"sk-estimator-id-2\" type=\"checkbox\" checked><label for=\"sk-estimator-id-2\" class=\"sk-toggleable__label sk-toggleable__label-arrow\">LinearRegression</label><div class=\"sk-toggleable__content\"><pre>LinearRegression()</pre></div></div></div></div></div>"
      ],
      "text/plain": [
       "LinearRegression()"
      ]
     },
     "execution_count": 72,
     "metadata": {},
     "output_type": "execute_result"
    }
   ],
   "source": [
    "#Creating model with Linear Regression\n",
    "lr = LinearRegression()\n",
    "lr.fit(X_train, y_train)"
   ]
  },
  {
   "cell_type": "code",
   "execution_count": 73,
   "metadata": {},
   "outputs": [
    {
     "name": "stdout",
     "output_type": "stream",
     "text": [
      "Linear Regression Confidence: 0.9396832907076541\n"
     ]
    }
   ],
   "source": [
    "#Getting score of Linear Regression model\n",
    "lr_confidence = lr.score(X_test, y_test)\n",
    "print(f\"Linear Regression Confidence:\", lr_confidence )"
   ]
  }
 ],
 "metadata": {
  "kernelspec": {
   "display_name": "base",
   "language": "python",
   "name": "python3"
  },
  "language_info": {
   "codemirror_mode": {
    "name": "ipython",
    "version": 3
   },
   "file_extension": ".py",
   "mimetype": "text/x-python",
   "name": "python",
   "nbconvert_exporter": "python",
   "pygments_lexer": "ipython3",
   "version": "3.11.5"
  }
 },
 "nbformat": 4,
 "nbformat_minor": 2
}
