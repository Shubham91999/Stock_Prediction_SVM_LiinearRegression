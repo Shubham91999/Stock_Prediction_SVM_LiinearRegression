{
 "cells": [
  {
   "cell_type": "code",
   "execution_count": 3,
   "metadata": {},
   "outputs": [
    {
     "name": "stdout",
     "output_type": "stream",
     "text": [
      "Collecting quandl\n",
      "  Obtaining dependency information for quandl from https://files.pythonhosted.org/packages/c9/cd/54ab3484243431e02dabab1254ffde296c005e0d11346536e5e02ce6c828/Quandl-3.7.0-py2.py3-none-any.whl.metadata\n",
      "  Downloading Quandl-3.7.0-py2.py3-none-any.whl.metadata (1.3 kB)\n",
      "Requirement already satisfied: pandas>=0.14 in /Users/shubhamk/anaconda3/lib/python3.11/site-packages (from quandl) (2.0.3)\n",
      "Requirement already satisfied: numpy>=1.8 in /Users/shubhamk/anaconda3/lib/python3.11/site-packages (from quandl) (1.24.3)\n",
      "Requirement already satisfied: requests>=2.7.0 in /Users/shubhamk/anaconda3/lib/python3.11/site-packages (from quandl) (2.31.0)\n",
      "Requirement already satisfied: inflection>=0.3.1 in /Users/shubhamk/anaconda3/lib/python3.11/site-packages (from quandl) (0.5.1)\n",
      "Requirement already satisfied: python-dateutil in /Users/shubhamk/anaconda3/lib/python3.11/site-packages (from quandl) (2.8.2)\n",
      "Requirement already satisfied: six in /Users/shubhamk/anaconda3/lib/python3.11/site-packages (from quandl) (1.16.0)\n",
      "Requirement already satisfied: more-itertools in /Users/shubhamk/anaconda3/lib/python3.11/site-packages (from quandl) (8.12.0)\n",
      "Requirement already satisfied: pytz>=2020.1 in /Users/shubhamk/anaconda3/lib/python3.11/site-packages (from pandas>=0.14->quandl) (2023.3.post1)\n",
      "Requirement already satisfied: tzdata>=2022.1 in /Users/shubhamk/anaconda3/lib/python3.11/site-packages (from pandas>=0.14->quandl) (2023.3)\n",
      "Requirement already satisfied: charset-normalizer<4,>=2 in /Users/shubhamk/anaconda3/lib/python3.11/site-packages (from requests>=2.7.0->quandl) (2.0.4)\n",
      "Requirement already satisfied: idna<4,>=2.5 in /Users/shubhamk/anaconda3/lib/python3.11/site-packages (from requests>=2.7.0->quandl) (3.4)\n",
      "Requirement already satisfied: urllib3<3,>=1.21.1 in /Users/shubhamk/anaconda3/lib/python3.11/site-packages (from requests>=2.7.0->quandl) (1.26.16)\n",
      "Requirement already satisfied: certifi>=2017.4.17 in /Users/shubhamk/anaconda3/lib/python3.11/site-packages (from requests>=2.7.0->quandl) (2023.11.17)\n",
      "Downloading Quandl-3.7.0-py2.py3-none-any.whl (26 kB)\n",
      "Installing collected packages: quandl\n",
      "Successfully installed quandl-3.7.0\n",
      "Note: you may need to restart the kernel to use updated packages.\n"
     ]
    }
   ],
   "source": [
    "#Installing quandl\n",
    "%pip install quandl"
   ]
  },
  {
   "cell_type": "code",
   "execution_count": 1,
   "metadata": {},
   "outputs": [],
   "source": [
    "#Imorting required libraries\n",
    "import quandl\n",
    "import pandas as pd\n",
    "import numpy as np\n",
    "from sklearn.model_selection import train_test_split\n",
    "from sklearn.svm import SVR\n",
    "from sklearn.linear_model import LinearRegression\n"
   ]
  }
 ],
 "metadata": {
  "kernelspec": {
   "display_name": "base",
   "language": "python",
   "name": "python3"
  },
  "language_info": {
   "codemirror_mode": {
    "name": "ipython",
    "version": 3
   },
   "file_extension": ".py",
   "mimetype": "text/x-python",
   "name": "python",
   "nbconvert_exporter": "python",
   "pygments_lexer": "ipython3",
   "version": "3.11.5"
  }
 },
 "nbformat": 4,
 "nbformat_minor": 2
}
